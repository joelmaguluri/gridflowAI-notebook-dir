{
 "cells": [
  {
   "cell_type": "code",
   "execution_count": 28,
   "metadata": {},
   "outputs": [],
   "source": [
    "import pandas as pd\n",
    "import numpy as np\n",
    "import matplotlib.pyplot as plt\n",
    "%matplotlib inline"
   ]
  },
  {
   "cell_type": "markdown",
   "metadata": {},
   "source": [
    "#### Loading the Data"
   ]
  },
  {
   "cell_type": "markdown",
   "metadata": {},
   "source": [
    "performing a linear regression with one variable to predict profits for a food truck. \n",
    "The data contains 2 columns, population of a city (in 10,000s) and the profits of the food \n",
    "truck (in 10,000s)."
   ]
  },
  {
   "cell_type": "code",
   "execution_count": 29,
   "metadata": {},
   "outputs": [],
   "source": [
    "data = pd.read_csv(r'D:\\MYLEARN\\datasets\\ex1data1.txt', \n",
    "                   names = ['population', 'profit'])"
   ]
  },
  {
   "cell_type": "code",
   "execution_count": 30,
   "metadata": {},
   "outputs": [
    {
     "data": {
      "text/html": [
       "<div>\n",
       "<style scoped>\n",
       "    .dataframe tbody tr th:only-of-type {\n",
       "        vertical-align: middle;\n",
       "    }\n",
       "\n",
       "    .dataframe tbody tr th {\n",
       "        vertical-align: top;\n",
       "    }\n",
       "\n",
       "    .dataframe thead th {\n",
       "        text-align: right;\n",
       "    }\n",
       "</style>\n",
       "<table border=\"1\" class=\"dataframe\">\n",
       "  <thead>\n",
       "    <tr style=\"text-align: right;\">\n",
       "      <th></th>\n",
       "      <th>population</th>\n",
       "      <th>profit</th>\n",
       "    </tr>\n",
       "  </thead>\n",
       "  <tbody>\n",
       "    <tr>\n",
       "      <th>0</th>\n",
       "      <td>6.1101</td>\n",
       "      <td>17.5920</td>\n",
       "    </tr>\n",
       "    <tr>\n",
       "      <th>1</th>\n",
       "      <td>5.5277</td>\n",
       "      <td>9.1302</td>\n",
       "    </tr>\n",
       "    <tr>\n",
       "      <th>2</th>\n",
       "      <td>8.5186</td>\n",
       "      <td>13.6620</td>\n",
       "    </tr>\n",
       "    <tr>\n",
       "      <th>3</th>\n",
       "      <td>7.0032</td>\n",
       "      <td>11.8540</td>\n",
       "    </tr>\n",
       "    <tr>\n",
       "      <th>4</th>\n",
       "      <td>5.8598</td>\n",
       "      <td>6.8233</td>\n",
       "    </tr>\n",
       "  </tbody>\n",
       "</table>\n",
       "</div>"
      ],
      "text/plain": [
       "   population   profit\n",
       "0      6.1101  17.5920\n",
       "1      5.5277   9.1302\n",
       "2      8.5186  13.6620\n",
       "3      7.0032  11.8540\n",
       "4      5.8598   6.8233"
      ]
     },
     "execution_count": 30,
     "metadata": {},
     "output_type": "execute_result"
    }
   ],
   "source": [
    "data.head()"
   ]
  },
  {
   "cell_type": "code",
   "execution_count": 31,
   "metadata": {},
   "outputs": [],
   "source": [
    "## Split population and profit into X and y\n",
    "X_df = pd.DataFrame(data.population)\n",
    "y_df = pd.DataFrame(data.profit)\n",
    "\n",
    "X = X_df['population'].values\n",
    "y = y_df['profit'].values\n",
    "\n",
    "## Length, or number of observations, in our data\n",
    "no_samples = len(y_df)"
   ]
  },
  {
   "cell_type": "code",
   "execution_count": 32,
   "metadata": {},
   "outputs": [
    {
     "data": {
      "image/png": "[encoded data removed]",
      "text/plain": [
       "<Figure size 576x432 with 1 Axes>"
      ]
     },
     "metadata": {
      "needs_background": "light"
     },
     "output_type": "display_data"
    }
   ],
   "source": [
    "plt.figure(figsize=(8, 6))\n",
    "\n",
    "plt.plot(X_df, y_df, 'kx')\n",
    "\n",
    "plt.xlabel('Population of City in 10,000s')\n",
    "plt.ylabel('Profit in $10,000s');"
   ]
  },
  {
   "cell_type": "markdown",
   "metadata": {},
   "source": [
    "The idea of linear regression is to find a relationship between our target or dependent \n",
    "variable ($y$) and a set of explanatory variables ($x_1$, $x_2$ ...). \n",
    "This relatonship can then be used to predict other values.\n",
    "\n",
    "multi-variable linear equation might look like this, where $w$ represents the coefficients, or weights, our model will try to learn.\n",
    "$ f(x,y,z) = w_1 x + w_2 y + w_3 z$\n",
    "\n",
    "In our case with one variable, this relationship is a line defined by parameters beta \n",
    "and the following form: profit = $w_1$.Population"
   ]
  },
  {
   "cell_type": "markdown",
   "metadata": {},
   "source": [
    "#### cost function \n",
    "\n",
    "$$MSE =  \\frac{1}{2N} \\sum_{i=1}^{n} (y_i - (m x_i + b))^2$$\n",
    "\n",
    "- N  is the total number of observations (data points)\n",
    "- $\\frac{1}{N} \\sum_{i=1}^{n}$ is the mean\n",
    "- $y_i$ is the actual value of an observation and $mx_i+b$ is our prediction\n"
   ]
  },
  {
   "cell_type": "code",
   "execution_count": 33,
   "metadata": {},
   "outputs": [],
   "source": [
    "def compute_cost(X, y, coeffs):\n",
    "\n",
    "    # number of training examples\n",
    "    no_samples = len(y) \n",
    "    \n",
    "    ## Calculate the cost with the given parameters\n",
    "    J = np.sum(np.square(np.matmul(X, coeffs) - y)) / (2 * no_samples)\n",
    "    \n",
    "    return J"
   ]
  },
  {
   "cell_type": "markdown",
   "metadata": {},
   "source": [
    "the data looks like this (sample)\n",
    "\n",
    "| X  | y | $b_0$ | $b_1$ | $\\hat{y} is b_0 + b_1. X$ | y - $\\hat{y}$ |\n",
    "| ---|---|-------|-------|--------------------------| --------------|\n",
    "| .. | ..| ..    | ..    | ...                      | ...           |\n",
    "| .. | ..| ..    | ..    | ...                      |...           |\n",
    "| .. | ..| ..    | ..    | ...                      |...           |\n",
    "| .. | ..| ..    | ..    | ...                      |...           |\n",
    "\n",
    "\n",
    "\n"
   ]
  },
  {
   "cell_type": "markdown",
   "metadata": {},
   "source": [
    "#### gradient descent function\n",
    "\n",
    "$$ \\begin{split}\\begin{align}\n",
    "f'(m,b) =\n",
    "  \\begin{bmatrix}\n",
    "    \\frac{df}{dm}\\\\\n",
    "    \\frac{df}{db}\\\\\n",
    "  \\end{bmatrix}\n",
    "&=\n",
    "  \\begin{bmatrix}\n",
    "    \\frac{1}{N} \\sum -x_i \\cdot 2(y_i - (mx_i + b)) \\\\\n",
    "    \\frac{1}{N} \\sum -1 \\cdot 2(y_i - (mx_i + b)) \\\\\n",
    "  \\end{bmatrix}\\\\\n",
    "&=\n",
    "  \\begin{bmatrix}\n",
    "     \\frac{1}{N} \\sum -2x_i(y_i - (mx_i + b)) \\\\\n",
    "     \\frac{1}{N} \\sum -2(y_i - (mx_i + b)) \\\\\n",
    "  \\end{bmatrix}\n",
    "\\end{align}\\end{split} \n",
    "$$\n",
    "\n",
    "$$ \\text{gradient} = - \\frac{1}{\\text{no_samples}} X(\\text{targets} - \\text{predictions})$$"
   ]
  },
  {
   "cell_type": "code",
   "execution_count": 34,
   "metadata": {},
   "outputs": [],
   "source": [
    "def gradient_descent(X, y, coeffs, alpha, iterations):\n",
    "    \n",
    "    # number of training examples\n",
    "    no_samples = len(y) \n",
    "\n",
    "    cost_history = [0] * iterations\n",
    "    \n",
    "    for iteration in range(iterations):\n",
    "        hypothesis = X.dot(coeffs)\n",
    "        loss       = hypothesis - y\n",
    "        \n",
    "        gradient = X.T.dot(loss)/no_samples\n",
    "              \n",
    "        coeffs = coeffs - alpha * gradient\n",
    "        \n",
    "        # Alternative\n",
    "        #t0 = theta[0] - (alpha / no_samples) * np.sum( np.dot(X, theta) - y)\n",
    "        #t1 = theta[1] - (alpha / no_samples) * np.sum((np.dot(X, theta) - y) * X[:, 1])     \n",
    "        #theta = np.array([t0, t1])\n",
    "        \n",
    "        cost  = compute_cost(X, y, coeffs)\n",
    "        \n",
    "        cost_history[iteration] = cost\n",
    "\n",
    "    return coeffs, cost_history"
   ]
  },
  {
   "cell_type": "markdown",
   "metadata": {},
   "source": [
    "a column of 1s is prepended onto the input data. This allows us to vectorize the cost function, as well as make it usable for multiple linear regression later. This first value $θ_0$ now behaves as a constant in the cost function."
   ]
  },
  {
   "cell_type": "code",
   "execution_count": 35,
   "metadata": {},
   "outputs": [],
   "source": [
    "# Initialize\n",
    "coeffs = np.array([0, 0])\n",
    "\n",
    "X_1s    = np.c_[np.ones((len(X), 1)), X]\n",
    "y      = y"
   ]
  },
  {
   "cell_type": "markdown",
   "metadata": {},
   "source": [
    "#### test the cost function"
   ]
  },
  {
   "cell_type": "code",
   "execution_count": 36,
   "metadata": {},
   "outputs": [
    {
     "name": "stdout",
     "output_type": "stream",
     "text": [
      "coeffs: [0 0]\n",
      "cost  : 32.072733877455676\n"
     ]
    }
   ],
   "source": [
    "cost = compute_cost(X_1s, y, coeffs)\n",
    "\n",
    "print('coeffs:', coeffs)\n",
    "print('cost  :', cost)"
   ]
  },
  {
   "cell_type": "markdown",
   "metadata": {},
   "source": [
    "We’ll now minimize the cost using the __gradient descent__ algorithm. \n",
    "\n",
    "Intuitively, gradient descent takes small, linear hops down the slope of a function in each feature dimension, with the size of each hop determined by the partial derivative of the cost function with respect to that feature and a __learning rate__ multiplier __α__. "
   ]
  },
  {
   "cell_type": "code",
   "execution_count": 37,
   "metadata": {},
   "outputs": [],
   "source": [
    "iterations = 1500\n",
    "alpha      = 0.01 # non-trivial parameter"
   ]
  },
  {
   "cell_type": "code",
   "execution_count": 38,
   "metadata": {},
   "outputs": [],
   "source": [
    "(coeffs, cost_history) = gradient_descent(X_1s, y, coeffs, alpha, iterations)"
   ]
  },
  {
   "cell_type": "code",
   "execution_count": 39,
   "metadata": {},
   "outputs": [
    {
     "name": "stdout",
     "output_type": "stream",
     "text": [
      "[-3.63029144  1.16636235]\n",
      "4.483388256587726\n"
     ]
    }
   ],
   "source": [
    "print (coeffs)\n",
    "print (cost_history[-1])"
   ]
  },
  {
   "cell_type": "code",
   "execution_count": 40,
   "metadata": {},
   "outputs": [
    {
     "data": {
      "text/plain": [
       "array([7, 1])"
      ]
     },
     "execution_count": 40,
     "metadata": {},
     "output_type": "execute_result"
    }
   ],
   "source": [
    "np.array([7,   1])"
   ]
  },
  {
   "cell_type": "code",
   "execution_count": 20,
   "metadata": {},
   "outputs": [
    {
     "name": "stdout",
     "output_type": "stream",
     "text": [
      "[4.53424501]\n",
      "[-0.13120439]\n"
     ]
    }
   ],
   "source": [
    "## Prediction\n",
    "print (np.array([[1, 7]]).dot(coeffs))\n",
    "print (np.array([[1, 3]]).dot(coeffs))"
   ]
  },
  {
   "cell_type": "code",
   "execution_count": 21,
   "metadata": {},
   "outputs": [],
   "source": [
    "## Plotting the best fit line\n",
    "best_fit_x = np.linspace(X.min(), X.max(), 200)\n",
    "best_fit_y = [coeffs[0] + coeffs[1] * xx for xx in best_fit_x]"
   ]
  },
  {
   "cell_type": "code",
   "execution_count": 22,
   "metadata": {},
   "outputs": [
    {
     "data": {
      "image/png": "[encoded data removed]",
      "text/plain": [
       "<Figure size 720x432 with 1 Axes>"
      ]
     },
     "metadata": {
      "needs_background": "light"
     },
     "output_type": "display_data"
    }
   ],
   "source": [
    "plt.figure(figsize=(10,6))\n",
    "\n",
    "plt.plot(X, y, 'kx')\n",
    "plt.plot(best_fit_x, best_fit_y, '-')\n",
    "\n",
    "#plt.axis([0,25,-5,25])\n",
    "plt.xlabel('Population of City in 10,000s')\n",
    "plt.ylabel('Profit in $10,000s')\n",
    "plt.title('Profit vs. Population with Linear Regression Line');"
   ]
  },
  {
   "cell_type": "markdown",
   "metadata": {},
   "source": [
    "#### Use linear regression (sklearn)"
   ]
  },
  {
   "cell_type": "code",
   "execution_count": 23,
   "metadata": {},
   "outputs": [],
   "source": [
    "from sklearn.linear_model import LinearRegression"
   ]
  },
  {
   "cell_type": "code",
   "execution_count": 24,
   "metadata": {},
   "outputs": [],
   "source": [
    "# instantiate\n",
    "linreg = LinearRegression()\n",
    "\n",
    "# fit the model to the training data (learn the coefficients)\n",
    "linreg.fit(X_df, y_df)\n",
    "\n",
    "y_pred = linreg.predict(X_df)"
   ]
  },
  {
   "cell_type": "code",
   "execution_count": 25,
   "metadata": {},
   "outputs": [],
   "source": [
    "from sklearn import metrics"
   ]
  },
  {
   "cell_type": "code",
   "execution_count": 26,
   "metadata": {},
   "outputs": [
    {
     "data": {
      "text/plain": [
       "8.953942751950356"
      ]
     },
     "execution_count": 26,
     "metadata": {},
     "output_type": "execute_result"
    }
   ],
   "source": [
    "metrics.mean_squared_error(y_df, y_pred)"
   ]
  },
  {
   "cell_type": "code",
   "execution_count": 27,
   "metadata": {},
   "outputs": [
    {
     "data": {
      "text/plain": [
       "(array([-3.89578088]), array([[1.19303364]]))"
      ]
     },
     "execution_count": 27,
     "metadata": {},
     "output_type": "execute_result"
    }
   ],
   "source": [
    "linreg.intercept_, linreg.coef_"
   ]
  },
  {
   "cell_type": "raw",
   "metadata": {},
   "source": [
    "[-3.63029144  1.16636235]\n",
    "\n",
    "4.483388256587726"
   ]
  },
  {
   "cell_type": "code",
   "execution_count": 167,
   "metadata": {},
   "outputs": [
    {
     "data": {
      "text/plain": [
       "array([[4.45545463]])"
      ]
     },
     "execution_count": 167,
     "metadata": {},
     "output_type": "execute_result"
    }
   ],
   "source": [
    "## make predictions\n",
    "linreg.predict([[7]])"
   ]
  },
  {
   "cell_type": "code",
   "execution_count": null,
   "metadata": {
    "collapsed": true,
    "jupyter": {
     "outputs_hidden": true
    }
   },
   "outputs": [],
   "source": []
  }
 ],
 "metadata": {
  "kernelspec": {
   "display_name": "Python 3 (ipykernel)",
   "language": "python",
   "name": "python3"
  },
  "language_info": {
   "codemirror_mode": {
    "name": "ipython",
    "version": 3
   },
   "file_extension": ".py",
   "mimetype": "text/x-python",
   "name": "python",
   "nbconvert_exporter": "python",
   "pygments_lexer": "ipython3",
   "version": "3.9.7"
  }
 },
 "nbformat": 4,
 "nbformat_minor": 4
}
