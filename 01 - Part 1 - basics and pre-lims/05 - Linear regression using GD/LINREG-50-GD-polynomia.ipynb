{
 "cells": [
  {
   "cell_type": "markdown",
   "metadata": {},
   "source": [
    "# Polynomial Regression in Python using Gradient Descent Optimization\n",
    "\n",
    "There are 2 approaches of Gradient Descent:\n",
    "\n",
    "1. __Stochastic Gradient Descent__\n",
    "    In Stochastic Gradient Descent, the Gradient Descent Algorithm is run, taking a single instance from the data-set at a time.\n",
    "\n",
    "    we need 3 modules to implement the SGD\n",
    "    \n",
    "    __hypothesis()__: \n",
    "    \n",
    "    It is the function that calculates and outputs the hypothesis value of the Target Variable, given theta (theta_0 and theta_1) and Feature, X as input. \n",
    "    \n",
    "    __SGD()__: \n",
    "    \n",
    "    It is the function that performs the Stochastic Gradient Descent Algorithm taking \n",
    "    \n",
    "        INPUT\n",
    "            current values of theta_0 and theta_1, \n",
    "            alpha, number of iterations (num_iters), \n",
    "            hypothesis value(h), \n",
    "            feature set (X) and \n",
    "            Target Variable set (y) a\n",
    "        \n",
    "        OUTPUT\n",
    "        \n",
    "            the optimized theta (theta_0 and theta_1) at each iteration \n",
    "            \n",
    "    __sgd_linear_regression()__: \n",
    "    \n",
    "    It is the principal function that takes as INPUT\n",
    "    \n",
    "        the feature set (X), \n",
    "        Target Variable set (y), \n",
    "        learning rate and \n",
    "        number of iterations (num_iters) as input and \n",
    "        \n",
    "        OUTPUTS the final optimized theta i.e., the values of theta_0 and theta_1 for which the cost function almost achieves minima\n",
    "            \n",
    "\n",
    "2. Batch Gradient Descent\n",
    "\n",
    "    In Batch Gradient Descent, the Gradient Descent Algorithm is run, taking all the instances from the data-set at once.\n",
    "\n",
    "    __hypothesis()__: It is the function that calculates and outputs the hypothesis value of the Target Variable, given theta (theta_0 and theta_1) and Feature, X as input. \n",
    "\n",
    "    __BGD()__: \n",
    "    \n",
    "    It is the function that performs the Batch Gradient Descent Algorithm taking \n",
    "    \n",
    "       current values of theta_0 and theta_1, \n",
    "       alpha, number of iterations (num_iters), \n",
    "       list of hypothesis values of all samples(h), \n",
    "       feature set (X) and \n",
    "       Target Variable set (y) as input \n",
    "       \n",
    "       and outputs \n",
    "           the optimized theta (theta_0 and theta_1), \n",
    "           theta_0 history (theta_0) and \n",
    "           theta_1 history (theta_1) i.e., \n",
    "           \n",
    "           the value of theta_0 and theta_1 at each iteration and finally the cost history which contains the value of the cost function over all the iterations.\n",
    "           \n",
    "     __linear_regression()__: \n",
    "     \n",
    "     It is the principal function that takes \n",
    "     \n",
    "         the feature set (X), \n",
    "         Target Variable set (y), \n",
    "         learning rate and number of iterations (num_iters) as input \n",
    "         \n",
    "         and outputs \n",
    "         \n",
    "             the final optimized theta i.e., the values of theta_0 and theta_1 for which the cost function almost achieves minima following Batch Gradient Descent and cost which stores the value of cost for every iteration."
   ]
  },
  {
   "cell_type": "code",
   "execution_count": 11,
   "metadata": {},
   "outputs": [],
   "source": [
    "import numpy as np\n",
    "import pandas as pd\n",
    "\n",
    "%matplotlib inline\n",
    "import matplotlib.pyplot as plt\n",
    "from mpl_toolkits.mplot3d import Axes3D"
   ]
  },
  {
   "cell_type": "markdown",
   "metadata": {},
   "source": [
    "### Stochastic Gradient Descent"
   ]
  },
  {
   "cell_type": "code",
   "execution_count": 12,
   "metadata": {},
   "outputs": [
    {
     "data": {
      "text/plain": [
       "array([[1.],\n",
       "       [1.],\n",
       "       [1.],\n",
       "       [1.],\n",
       "       [1.]])"
      ]
     },
     "execution_count": 12,
     "metadata": {},
     "output_type": "execute_result"
    }
   ],
   "source": [
    "np.ones((5, 1))"
   ]
  },
  {
   "cell_type": "code",
   "execution_count": null,
   "metadata": {},
   "outputs": [],
   "source": []
  },
  {
   "cell_type": "code",
   "execution_count": 13,
   "metadata": {},
   "outputs": [],
   "source": [
    "def hypothesis(theta, X):\n",
    "    \n",
    "    h = np.ones((X.shape[0], 1))\n",
    "    \n",
    "    for i in range(0, X.shape[0]):\n",
    "        x    = np.concatenate((np.ones(1), np.array([X[i]])), axis = 0)\n",
    "        \n",
    "        h[i] = float(np.matmul(theta, x))\n",
    "        \n",
    "    h = h.reshape(X.shape[0])\n",
    "    \n",
    "    return h"
   ]
  },
  {
   "cell_type": "code",
   "execution_count": 14,
   "metadata": {},
   "outputs": [],
   "source": [
    "def SGD(theta, alpha, num_iters, h, X, y):\n",
    "    \n",
    "    for i in range(0,num_iters):\n",
    "        \n",
    "        theta[0] = theta[0] - (alpha) * (h - y)\n",
    "        theta[1] = theta[1] - (alpha) * ((h - y) * X)\n",
    "        \n",
    "        h = theta[1]*X + theta[0] \n",
    "        \n",
    "    return theta"
   ]
  },
  {
   "cell_type": "code",
   "execution_count": 25,
   "metadata": {},
   "outputs": [],
   "source": [
    "def sgd_linear_regression(X, y, alpha, num_iters):\n",
    "    \n",
    "    # initializing the parameter vector...\n",
    "    theta = np.zeros(2)\n",
    "    \n",
    "    # hypothesis calculation....\n",
    "    h = hypothesis(theta, X)    \n",
    "    \n",
    "    # returning the optimized parameters by Gradient Descent...\n",
    "    for i in range(0, X.shape[0]):\n",
    "        theta = SGD(theta, alpha, num_iters, h[i], X[i], y[i])\n",
    "        \n",
    "    theta = theta.reshape(1, 2)\n",
    "    \n",
    "    return theta"
   ]
  },
  {
   "cell_type": "code",
   "execution_count": 16,
   "metadata": {},
   "outputs": [],
   "source": [
    "data = pd.read_csv(r'E:\\MYLEARN\\2-ANALYTICS-DataScience\\datasets\\ex1data1.txt', \n",
    "                   names = ['population', 'profit'])"
   ]
  },
  {
   "cell_type": "code",
   "execution_count": 17,
   "metadata": {},
   "outputs": [
    {
     "data": {
      "text/plain": [
       "(97, 2)"
      ]
     },
     "execution_count": 17,
     "metadata": {},
     "output_type": "execute_result"
    }
   ],
   "source": [
    "data.shape"
   ]
  },
  {
   "cell_type": "code",
   "execution_count": 18,
   "metadata": {},
   "outputs": [
    {
     "data": {
      "text/html": [
       "<div>\n",
       "<style scoped>\n",
       "    .dataframe tbody tr th:only-of-type {\n",
       "        vertical-align: middle;\n",
       "    }\n",
       "\n",
       "    .dataframe tbody tr th {\n",
       "        vertical-align: top;\n",
       "    }\n",
       "\n",
       "    .dataframe thead th {\n",
       "        text-align: right;\n",
       "    }\n",
       "</style>\n",
       "<table border=\"1\" class=\"dataframe\">\n",
       "  <thead>\n",
       "    <tr style=\"text-align: right;\">\n",
       "      <th></th>\n",
       "      <th>population</th>\n",
       "      <th>profit</th>\n",
       "    </tr>\n",
       "  </thead>\n",
       "  <tbody>\n",
       "    <tr>\n",
       "      <th>0</th>\n",
       "      <td>6.1101</td>\n",
       "      <td>17.5920</td>\n",
       "    </tr>\n",
       "    <tr>\n",
       "      <th>1</th>\n",
       "      <td>5.5277</td>\n",
       "      <td>9.1302</td>\n",
       "    </tr>\n",
       "    <tr>\n",
       "      <th>2</th>\n",
       "      <td>8.5186</td>\n",
       "      <td>13.6620</td>\n",
       "    </tr>\n",
       "    <tr>\n",
       "      <th>3</th>\n",
       "      <td>7.0032</td>\n",
       "      <td>11.8540</td>\n",
       "    </tr>\n",
       "    <tr>\n",
       "      <th>4</th>\n",
       "      <td>5.8598</td>\n",
       "      <td>6.8233</td>\n",
       "    </tr>\n",
       "  </tbody>\n",
       "</table>\n",
       "</div>"
      ],
      "text/plain": [
       "   population   profit\n",
       "0      6.1101  17.5920\n",
       "1      5.5277   9.1302\n",
       "2      8.5186  13.6620\n",
       "3      7.0032  11.8540\n",
       "4      5.8598   6.8233"
      ]
     },
     "execution_count": 18,
     "metadata": {},
     "output_type": "execute_result"
    }
   ],
   "source": [
    "data.head()"
   ]
  },
  {
   "cell_type": "code",
   "execution_count": 19,
   "metadata": {},
   "outputs": [],
   "source": [
    "# Split population and profit into X and y\n",
    "X_df = pd.DataFrame(data.population)\n",
    "y_df = pd.DataFrame(data.profit)"
   ]
  },
  {
   "cell_type": "code",
   "execution_count": 21,
   "metadata": {},
   "outputs": [],
   "source": [
    "X_train = data.values[:, 0] # the feature_set\n",
    "y_train = data.values[:, 1] # the labels"
   ]
  },
  {
   "cell_type": "code",
   "execution_count": 23,
   "metadata": {},
   "outputs": [
    {
     "data": {
      "image/png": "[encoded data removed]",
      "text/plain": [
       "<Figure size 432x288 with 1 Axes>"
      ]
     },
     "metadata": {
      "needs_background": "light"
     },
     "output_type": "display_data"
    }
   ],
   "source": [
    "plt.scatter(X_train, y_train)\n",
    "\n",
    "plt.xlabel('Population of City in 10,000s')\n",
    "plt.ylabel('Profit in $10,000s');"
   ]
  },
  {
   "cell_type": "code",
   "execution_count": 29,
   "metadata": {},
   "outputs": [],
   "source": [
    "# calling the principal function with \n",
    "# learning_rate = 0.0001  \n",
    "# num_iters = 100000\n",
    "theta = sgd_linear_regression(X_train, y_train, 0.001, 100000)"
   ]
  },
  {
   "cell_type": "code",
   "execution_count": 30,
   "metadata": {},
   "outputs": [
    {
     "data": {
      "text/plain": [
       "array([[-0.70788328,  0.24369278]])"
      ]
     },
     "execution_count": 30,
     "metadata": {},
     "output_type": "execute_result"
    }
   ],
   "source": [
    "theta"
   ]
  },
  {
   "cell_type": "code",
   "execution_count": 31,
   "metadata": {},
   "outputs": [
    {
     "data": {
      "text/plain": [
       "Text(0, 0.5, 'Profit in $10,000s')"
      ]
     },
     "execution_count": 31,
     "metadata": {},
     "output_type": "execute_result"
    },
    {
     "data": {
      "image/png": "[encoded data removed]",
      "text/plain": [
       "<Figure size 432x288 with 1 Axes>"
      ]
     },
     "metadata": {
      "needs_background": "light"
     },
     "output_type": "display_data"
    }
   ],
   "source": [
    "# getting the predictions...\n",
    "training_predictions = hypothesis(theta, X_train)\n",
    "\n",
    "scatter         = plt.scatter(X_train, y_train, label=\"training data\")\n",
    "regression_line = plt.plot(X_train, training_predictions\n",
    "                           , label=\"linear regression\")\n",
    "\n",
    "plt.legend()\n",
    "plt.xlabel('Population of City in 10,000s')\n",
    "plt.ylabel('Profit in $10,000s')"
   ]
  },
  {
   "cell_type": "markdown",
   "metadata": {},
   "source": [
    "### Batch Gradient Descent:"
   ]
  },
  {
   "cell_type": "code",
   "execution_count": 35,
   "metadata": {},
   "outputs": [],
   "source": [
    "def BGD(theta, alpha, num_iters, h, X, y):\n",
    "    cost = np.ones(num_iters)\n",
    "    theta_0 = np.ones(num_iters)\n",
    "    theta_1 = np.ones(num_iters)\n",
    "    for i in range(0,num_iters):\n",
    "        theta[0] = theta[0] - (alpha/X.shape[0]) * sum(h - y)\n",
    "        theta[1] = theta[1] - (alpha/X.shape[0]) * sum((h - y) * X)\n",
    "        h = hypothesis(theta, X)\n",
    "        cost[i] = (1/X.shape[0]) * 0.5 * sum(np.square(h - y))\n",
    "        theta_0[i] = theta[0]\n",
    "        theta_1[i] = theta[1]\n",
    "    theta = theta.reshape(1,2)\n",
    "    return theta, theta_0, theta_1, cost"
   ]
  },
  {
   "cell_type": "code",
   "execution_count": 36,
   "metadata": {},
   "outputs": [],
   "source": [
    "def linear_regression(X, y, alpha, num_iters):\n",
    "\n",
    "    # initializing the parameter vector...\n",
    "    theta = np.zeros(2)\n",
    "    \n",
    "    # hypothesis calculation....\n",
    "    h = hypothesis(theta, X)    \n",
    "    \n",
    "    # returning the optimized parameters by Gradient Descent...\n",
    "    theta,theta_0,theta_1,cost= BGD(theta,alpha,num_iters,h,X,y)\n",
    "    \n",
    "    return theta, theta_0, theta_1, cost"
   ]
  },
  {
   "cell_type": "code",
   "execution_count": 37,
   "metadata": {},
   "outputs": [],
   "source": [
    "X_train = data.values[:, 0] # the feature_set\n",
    "y_train = data.values[:, 1] # the labels"
   ]
  },
  {
   "cell_type": "code",
   "execution_count": 38,
   "metadata": {},
   "outputs": [],
   "source": [
    "# calling the principal function with learning_rate = 0.0001 and  \n",
    "# num_iters = 300\n",
    "theta,theta_0,theta_1,cost=linear_regression(X_train,y_train,\n",
    "                                             0.001,300)"
   ]
  },
  {
   "cell_type": "code",
   "execution_count": 39,
   "metadata": {},
   "outputs": [
    {
     "data": {
      "text/plain": [
       "array([[-0.12956515,  0.81467642]])"
      ]
     },
     "execution_count": 39,
     "metadata": {},
     "output_type": "execute_result"
    }
   ],
   "source": [
    "theta"
   ]
  },
  {
   "cell_type": "code",
   "execution_count": 40,
   "metadata": {},
   "outputs": [
    {
     "data": {
      "text/plain": [
       "Text(0, 0.5, 'Profit in $10,000s')"
      ]
     },
     "execution_count": 40,
     "metadata": {},
     "output_type": "execute_result"
    },
    {
     "data": {
      "image/png": "[encoded data removed]",
      "text/plain": [
       "<Figure size 432x288 with 1 Axes>"
      ]
     },
     "metadata": {
      "needs_background": "light"
     },
     "output_type": "display_data"
    }
   ],
   "source": [
    "training_predictions = hypothesis(theta, X_train)\n",
    "\n",
    "scatter = plt.scatter(X_train, y_train, label=\"training data\")\n",
    "regression_line = plt.plot(X_train, \n",
    "                           training_predictions, label=\"linear regression\")\n",
    "\n",
    "plt.legend()\n",
    "plt.xlabel('Population of City in 10,000s')\n",
    "plt.ylabel('Profit in $10,000s')"
   ]
  },
  {
   "cell_type": "markdown",
   "metadata": {},
   "source": [
    "Also, the cost has been reduced in the course of Batch Gradient Descent iteration-by-iteration. "
   ]
  },
  {
   "cell_type": "code",
   "execution_count": 43,
   "metadata": {},
   "outputs": [
    {
     "data": {
      "image/png": "[encoded data removed]",
      "text/plain": [
       "<Figure size 432x288 with 1 Axes>"
      ]
     },
     "metadata": {
      "needs_background": "light"
     },
     "output_type": "display_data"
    }
   ],
   "source": [
    "# Line Curve for representing reduction in cost in 300 iterations:\n",
    "cost = list(cost)\n",
    "\n",
    "n_iterations = [x for x in range(1,301)]\n",
    "\n",
    "plt.plot(n_iterations, cost)\n",
    "\n",
    "plt.xlabel('No. of iterations')\n",
    "plt.ylabel('Cost');"
   ]
  },
  {
   "cell_type": "code",
   "execution_count": 45,
   "metadata": {},
   "outputs": [
    {
     "data": {
      "text/plain": [
       "Text(0.5, 0, 'J')"
      ]
     },
     "execution_count": 45,
     "metadata": {},
     "output_type": "execute_result"
    },
    {
     "data": {
      "image/png": "[encoded data removed]",
      "text/plain": [
       "<Figure size 432x288 with 1 Axes>"
      ]
     },
     "metadata": {
      "needs_background": "light"
     },
     "output_type": "display_data"
    }
   ],
   "source": [
    "# Surface Plot for representing reduction in cost:\n",
    "J = np.ones((300,300))\n",
    "in1 = 0\n",
    "in2 = 0\n",
    "\n",
    "theta_0 = theta_0.reshape(300)\n",
    "theta_1 = theta_1.reshape(300)\n",
    "\n",
    "for i in theta_0:\n",
    "    for j in theta_1:\n",
    "        t = np.array([i,j])\n",
    "        h = hypothesis(t, X_train)\n",
    "        J[in1][in2]=(1/X_train.shape[0])*0.5*sum(np.square(h-y_train))\n",
    "        in2 = in2 + 1\n",
    "    in1 = in1 + 1\n",
    "    in2 = 0\n",
    "    \n",
    "#from mpl_toolkits.mplot3d import Axes3D\n",
    "fig = plt.figure()\n",
    "\n",
    "ax = fig.add_subplot(111, projection='3d')\n",
    "X,Y = np.meshgrid(theta_0, theta_1)\n",
    "\n",
    "ax.plot_surface(X, Y, J)\n",
    "ax.set_xlabel('theta_0')\n",
    "ax.set_ylabel('theta_1')\n",
    "ax.set_zlabel('J')"
   ]
  },
  {
   "cell_type": "code",
   "execution_count": null,
   "metadata": {},
   "outputs": [],
   "source": []
  }
 ],
 "metadata": {
  "kernelspec": {
   "display_name": "Python 3",
   "language": "python",
   "name": "python3"
  },
  "language_info": {
   "codemirror_mode": {
    "name": "ipython",
    "version": 3
   },
   "file_extension": ".py",
   "mimetype": "text/x-python",
   "name": "python",
   "nbconvert_exporter": "python",
   "pygments_lexer": "ipython3",
   "version": "3.7.3"
  }
 },
 "nbformat": 4,
 "nbformat_minor": 2
}
