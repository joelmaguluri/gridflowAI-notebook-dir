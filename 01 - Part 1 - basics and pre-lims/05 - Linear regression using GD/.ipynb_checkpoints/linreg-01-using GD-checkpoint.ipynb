{
 "cells": [
  {
   "cell_type": "markdown",
   "id": "53b88911-dcc7-4a52-b0c8-afedc39aaf06",
   "metadata": {},
   "source": [
    "#### Import the necessary libraries:"
   ]
  },
  {
   "cell_type": "code",
   "execution_count": 1,
   "id": "6bfd8f4d-40e4-4054-941d-152c31ba69a9",
   "metadata": {},
   "outputs": [],
   "source": [
    "import autograd.numpy as np\n",
    "from autograd import grad\n",
    "from sklearn.datasets import fetch_california_housing\n",
    "from sklearn.preprocessing import StandardScaler\n",
    "from sklearn.model_selection import train_test_split"
   ]
  },
  {
   "cell_type": "markdown",
   "id": "75706a1e-9193-478f-9c5a-a45c8b575d90",
   "metadata": {},
   "source": [
    "#### Load and preprocess the California housing dataset:"
   ]
  },
  {
   "cell_type": "code",
   "execution_count": 2,
   "id": "a4932751-91d9-4eab-a2cf-8d7327846af7",
   "metadata": {},
   "outputs": [],
   "source": [
    "# Load the dataset\n",
    "data = fetch_california_housing()"
   ]
  },
  {
   "cell_type": "code",
   "execution_count": 3,
   "id": "34539b6b-8d7d-4c06-84e7-339ddb4075e2",
   "metadata": {},
   "outputs": [],
   "source": [
    "# Split the data into features (X) and target (y)\n",
    "X = data['data']\n",
    "y = data['target']"
   ]
  },
  {
   "cell_type": "code",
   "execution_count": 4,
   "id": "15ac622b-145c-4662-9a35-b9d1b106d983",
   "metadata": {},
   "outputs": [],
   "source": [
    "# Standardize the features\n",
    "scaler = StandardScaler()\n",
    "X = scaler.fit_transform(X)"
   ]
  },
  {
   "cell_type": "code",
   "execution_count": 5,
   "id": "b76d9333-f6f7-479b-bf07-b1f0d42880c6",
   "metadata": {},
   "outputs": [],
   "source": [
    "# Standardize the features\n",
    "scaler = StandardScaler()\n",
    "X = scaler.fit_transform(X)\n",
    "\n",
    "# Split the data into train and test sets\n",
    "X_train, X_test, y_train, y_test = train_test_split(X, y, test_size=0.2, random_state=42)"
   ]
  },
  {
   "cell_type": "code",
   "execution_count": 6,
   "id": "78c77f13-1e02-4543-92b3-5e7db737d21b",
   "metadata": {},
   "outputs": [],
   "source": [
    "X_train_with_bias = np.hstack((np.ones((X_train.shape[0], 1)), X_train))\n",
    "X_test_with_bias  = np.hstack((np.ones((X_test.shape[0], 1)), X_test))"
   ]
  },
  {
   "cell_type": "markdown",
   "id": "43b642e5-9e99-4446-ad5a-a57f09bdca90",
   "metadata": {},
   "source": [
    "#### Define the linear regression model"
   ]
  },
  {
   "cell_type": "code",
   "execution_count": 7,
   "id": "f2844836-2944-4b21-888b-066f9eff2c68",
   "metadata": {},
   "outputs": [],
   "source": [
    "# Define the linear regression model\n",
    "def linear_regression(theta, X):\n",
    "    return np.dot(X, theta)"
   ]
  },
  {
   "cell_type": "markdown",
   "id": "d9aa6ae4-7a6c-46f6-a012-266ac0bc78f2",
   "metadata": {},
   "source": [
    "#### Define the mean squared error (MSE) loss function"
   ]
  },
  {
   "cell_type": "code",
   "execution_count": 8,
   "id": "6c0d19ec-0adc-4349-84a3-c1142280c901",
   "metadata": {},
   "outputs": [],
   "source": [
    "def mse_loss(theta, X, y):\n",
    "    \n",
    "    y_pred = linear_regression(theta, X)\n",
    "    \n",
    "    return np.mean((y_pred - y) ** 2)"
   ]
  },
  {
   "cell_type": "markdown",
   "id": "08608bfd-24aa-4a6f-adef-7810bc4a3480",
   "metadata": {},
   "source": [
    "#### Initialize the model parameters (theta) with random values:"
   ]
  },
  {
   "cell_type": "code",
   "execution_count": 9,
   "id": "79e69724-d4d5-4e08-98a9-782f8d4e5c0a",
   "metadata": {},
   "outputs": [],
   "source": [
    "np.random.seed(42)\n",
    "theta_initial = np.random.randn(X_train_with_bias.shape[1])"
   ]
  },
  {
   "cell_type": "code",
   "execution_count": 10,
   "id": "13572c16-4314-4e18-8b89-f00f7af26831",
   "metadata": {},
   "outputs": [
    {
     "data": {
      "text/plain": [
       "array([ 0.49671415, -0.1382643 ,  0.64768854,  1.52302986, -0.23415337,\n",
       "       -0.23413696,  1.57921282,  0.76743473, -0.46947439])"
      ]
     },
     "execution_count": 10,
     "metadata": {},
     "output_type": "execute_result"
    }
   ],
   "source": [
    "theta_initial"
   ]
  },
  {
   "cell_type": "markdown",
   "id": "895e5d7a-a19d-4b67-b749-ce6bc56e3a77",
   "metadata": {},
   "source": [
    "#### Compute the gradients using autograd"
   ]
  },
  {
   "cell_type": "code",
   "execution_count": 20,
   "id": "ad0c0fa9-1081-4e88-9bbe-f769d33b8602",
   "metadata": {},
   "outputs": [],
   "source": [
    "gradient = grad(mse_loss)"
   ]
  },
  {
   "cell_type": "markdown",
   "id": "5df7bbfe-1d6d-4256-aa97-4e9d4204fb88",
   "metadata": {},
   "source": [
    "#### Perform gradient descent optimization"
   ]
  },
  {
   "cell_type": "code",
   "execution_count": 21,
   "id": "527c03be-ad34-45e9-b475-b0958ba6d79a",
   "metadata": {},
   "outputs": [],
   "source": [
    "learning_rate  = 0.01\n",
    "#num_iterations = 100\n",
    "num_iterations = 10000\n",
    "\n",
    "\n",
    "theta = theta_initial\n",
    "\n",
    "for i in range(num_iterations):\n",
    "    \n",
    "    # Compute gradients\n",
    "    gradients = gradient(theta, X_train_with_bias, y_train)\n",
    "\n",
    "    # Update parameters\n",
    "    theta -= learning_rate * gradients"
   ]
  },
  {
   "cell_type": "markdown",
   "id": "56f18191-e25e-4829-bfc9-f255a6c168a4",
   "metadata": {},
   "source": [
    "#### Evaluate the model on the test set"
   ]
  },
  {
   "cell_type": "code",
   "execution_count": 23,
   "id": "8f642ff9-2eb8-4944-afe0-cfd5d6612dca",
   "metadata": {},
   "outputs": [
    {
     "name": "stdout",
     "output_type": "stream",
     "text": [
      "Mean Squared Error: 0.5558905906524748\n"
     ]
    }
   ],
   "source": [
    "y_pred = linear_regression(theta, X_test_with_bias)\n",
    "mse    = mse_loss(theta, X_test_with_bias, y_test)\n",
    "\n",
    "print(\"Mean Squared Error:\", mse)"
   ]
  },
  {
   "cell_type": "markdown",
   "id": "ab79fa67-26c1-4171-9ab6-4f2e50decefd",
   "metadata": {},
   "source": [
    "#### using sklearn"
   ]
  },
  {
   "cell_type": "code",
   "execution_count": 18,
   "id": "5bfe2433-33f1-4a6f-bbb9-8bb295dcbbc1",
   "metadata": {},
   "outputs": [],
   "source": [
    "from sklearn.linear_model import LinearRegression\n",
    "from sklearn.metrics import mean_squared_error"
   ]
  },
  {
   "cell_type": "code",
   "execution_count": 19,
   "id": "a17539a5-ddbd-4d41-a8ad-54f86778e8b8",
   "metadata": {},
   "outputs": [
    {
     "data": {
      "text/plain": [
       "0.5558915986952442"
      ]
     },
     "execution_count": 19,
     "metadata": {},
     "output_type": "execute_result"
    }
   ],
   "source": [
    "model = LinearRegression()\n",
    "\n",
    "model.fit(X_train, y_train)\n",
    "\n",
    "y_pred = model.predict(X_test)\n",
    "\n",
    "mean_squared_error(y_test,y_pred)"
   ]
  },
  {
   "cell_type": "code",
   "execution_count": null,
   "id": "3172ef56-7ff7-4561-9264-322b54772fd3",
   "metadata": {},
   "outputs": [],
   "source": []
  }
 ],
 "metadata": {
  "kernelspec": {
   "display_name": "Python 3 (ipykernel)",
   "language": "python",
   "name": "python3"
  },
  "language_info": {
   "codemirror_mode": {
    "name": "ipython",
    "version": 3
   },
   "file_extension": ".py",
   "mimetype": "text/x-python",
   "name": "python",
   "nbconvert_exporter": "python",
   "pygments_lexer": "ipython3",
   "version": "3.10.9"
  }
 },
 "nbformat": 4,
 "nbformat_minor": 5
}
