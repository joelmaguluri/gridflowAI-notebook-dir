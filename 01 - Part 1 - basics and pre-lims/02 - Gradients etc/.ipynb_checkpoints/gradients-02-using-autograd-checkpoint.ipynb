{
 "cells": [
  {
   "cell_type": "code",
   "execution_count": 3,
   "id": "f1cdae09-037c-464f-850c-6c13b7d0e051",
   "metadata": {},
   "outputs": [],
   "source": [
    "#!pip install autograd"
   ]
  },
  {
   "cell_type": "code",
   "execution_count": 4,
   "id": "8e96837f-8d33-4552-8883-3f7e9bf62671",
   "metadata": {},
   "outputs": [],
   "source": [
    "import autograd.numpy as np\n",
    "from autograd import grad"
   ]
  },
  {
   "cell_type": "markdown",
   "id": "96759640-5ab8-4e80-8717-4b320a175fc0",
   "metadata": {},
   "source": [
    "Example 1\n",
    "\n",
    "Compute the gradient of a simple function:"
   ]
  },
  {
   "cell_type": "code",
   "execution_count": 15,
   "id": "c935964c-e6d3-4449-b863-eb5d0aaaf311",
   "metadata": {},
   "outputs": [],
   "source": [
    "# Define the function\n",
    "def f(x):\n",
    "    return x**3 + 2*x**2 - 5*x + 1"
   ]
  },
  {
   "cell_type": "code",
   "execution_count": 18,
   "id": "5106b1b5-4811-425e-a5fb-d3d25b854fa9",
   "metadata": {},
   "outputs": [],
   "source": [
    "# Compute the gradient using autograd\n",
    "grad_f = grad(f)"
   ]
  },
  {
   "cell_type": "code",
   "execution_count": 19,
   "id": "260db590-d081-481f-8521-62ac513e94c7",
   "metadata": {},
   "outputs": [
    {
     "name": "stdout",
     "output_type": "stream",
     "text": [
      "Gradient at x = 2.0 is 15.0\n"
     ]
    }
   ],
   "source": [
    "# Calculate the gradient at a specific point\n",
    "x = 2.0\n",
    "gradient = grad_f(x)\n",
    "\n",
    "print(\"Gradient at x =\", x, \"is\", gradient)"
   ]
  },
  {
   "cell_type": "markdown",
   "id": "37e35767-2a77-4811-b2d9-55f74216535e",
   "metadata": {},
   "source": [
    "Example 2\n",
    "\n",
    "- Compute the gradient of a multi-variable function:"
   ]
  },
  {
   "cell_type": "code",
   "execution_count": 21,
   "id": "6fe3c192-124e-42af-bf10-7377cdd1592a",
   "metadata": {},
   "outputs": [],
   "source": [
    "# Define the function\n",
    "def f(x, y):\n",
    "    return x**2 + np.sin(y)"
   ]
  },
  {
   "cell_type": "code",
   "execution_count": 22,
   "id": "2e340ccc-e62a-4199-92b1-48fb771d46ed",
   "metadata": {},
   "outputs": [],
   "source": [
    "# Compute the gradient using autograd\n",
    "grad_f = grad(f)"
   ]
  },
  {
   "cell_type": "code",
   "execution_count": 23,
   "id": "e462b436-dae6-4593-860c-3b1a8061e32d",
   "metadata": {},
   "outputs": [
    {
     "name": "stdout",
     "output_type": "stream",
     "text": [
      "Gradient at (x = 1.5 , y = 0.7853981633974483 ) is 3.0\n"
     ]
    }
   ],
   "source": [
    "# Calculate the gradient at a specific point\n",
    "x = 1.5\n",
    "y = np.pi/4\n",
    "gradient = grad_f(x, y)\n",
    "\n",
    "print(\"Gradient at (x =\", x, \", y =\", y, \") is\", gradient)"
   ]
  },
  {
   "cell_type": "code",
   "execution_count": null,
   "id": "f8f9d462-e197-4f6f-bd75-e35a5a644a72",
   "metadata": {},
   "outputs": [],
   "source": []
  }
 ],
 "metadata": {
  "kernelspec": {
   "display_name": "Python 3 (ipykernel)",
   "language": "python",
   "name": "python3"
  },
  "language_info": {
   "codemirror_mode": {
    "name": "ipython",
    "version": 3
   },
   "file_extension": ".py",
   "mimetype": "text/x-python",
   "name": "python",
   "nbconvert_exporter": "python",
   "pygments_lexer": "ipython3",
   "version": "3.10.9"
  }
 },
 "nbformat": 4,
 "nbformat_minor": 5
}
