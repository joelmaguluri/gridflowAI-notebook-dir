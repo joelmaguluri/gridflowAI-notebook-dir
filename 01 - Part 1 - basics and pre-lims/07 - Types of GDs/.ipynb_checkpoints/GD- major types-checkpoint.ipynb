{
 "cells": [
  {
   "cell_type": "markdown",
   "id": "f3849f80-ec40-4204-92c9-7b871e9f06ee",
   "metadata": {},
   "source": [
    "#### Batch GD"
   ]
  },
  {
   "cell_type": "code",
   "execution_count": 1,
   "id": "944f3fac-c789-436b-a1bf-aec44bbc18fc",
   "metadata": {},
   "outputs": [],
   "source": [
    "import numpy as np"
   ]
  },
  {
   "cell_type": "code",
   "execution_count": 2,
   "id": "89847e05-9b10-4193-8c7c-5c8bdff0ae87",
   "metadata": {},
   "outputs": [],
   "source": [
    "# Generate dummy data\n",
    "np.random.seed(42)\n",
    "X = 2 * np.random.rand(100, 1)\n",
    "y = 4 + 3 * X + np.random.randn(100, 1)"
   ]
  },
  {
   "cell_type": "code",
   "execution_count": 3,
   "id": "84ad34b3-a9be-4ac8-b1d2-8a61312be3cf",
   "metadata": {},
   "outputs": [],
   "source": [
    "# Add bias term to feature matrix X\n",
    "X_b = np.c_[np.ones((100, 1)), X]"
   ]
  },
  {
   "cell_type": "code",
   "execution_count": 4,
   "id": "76754a30-9feb-4678-8bab-467ce38483b3",
   "metadata": {},
   "outputs": [],
   "source": [
    "# Set hyperparameters\n",
    "learning_rate  = 0.1\n",
    "num_iterations = 1000"
   ]
  },
  {
   "cell_type": "code",
   "execution_count": 5,
   "id": "da92b67d-8024-445d-98a3-c226652071fc",
   "metadata": {},
   "outputs": [],
   "source": [
    "# Initialize model parameters\n",
    "theta = np.random.randn(2, 1)"
   ]
  },
  {
   "cell_type": "code",
   "execution_count": 6,
   "id": "02f56d30-8443-4dc7-909b-ad8b84a6fdda",
   "metadata": {},
   "outputs": [],
   "source": [
    "# Batch Gradient Descent\n",
    "for iteration in range(num_iterations):\n",
    "    # Compute gradients\n",
    "    gradients = 2/100 * X_b.T.dot(X_b.dot(theta) - y)\n",
    "    \n",
    "    # Update parameters\n",
    "    theta = theta - learning_rate * gradients"
   ]
  },
  {
   "cell_type": "code",
   "execution_count": 7,
   "id": "a3f79066-2614-4372-bb25-baa872cb76d3",
   "metadata": {},
   "outputs": [
    {
     "name": "stdout",
     "output_type": "stream",
     "text": [
      "Intercept: [4.21509616]\n",
      "Slope: [2.77011339]\n"
     ]
    }
   ],
   "source": [
    "# Print the final model parameters\n",
    "print(\"Intercept:\", theta[0])\n",
    "print(\"Slope:\", theta[1])"
   ]
  },
  {
   "cell_type": "markdown",
   "id": "c8a7068f-d14f-4fbb-bb7b-b9d5cf3e2a26",
   "metadata": {},
   "source": [
    "#### Stochastic GD"
   ]
  },
  {
   "cell_type": "code",
   "execution_count": 8,
   "id": "c42dcdb7-dc89-482c-87bb-2455a7740701",
   "metadata": {},
   "outputs": [],
   "source": [
    "# Generate dummy data\n",
    "np.random.seed(42)\n",
    "X = 2 * np.random.rand(100, 1)\n",
    "y = 4 + 3 * X + np.random.randn(100, 1)"
   ]
  },
  {
   "cell_type": "code",
   "execution_count": 9,
   "id": "c6e6a713-cfd9-4884-adcf-10963df330ee",
   "metadata": {},
   "outputs": [],
   "source": [
    "# Add bias term to feature matrix X\n",
    "X_b = np.c_[np.ones((100, 1)), X]"
   ]
  },
  {
   "cell_type": "code",
   "execution_count": 10,
   "id": "9cb6cba6-b12d-4318-b624-b11c42b63bfa",
   "metadata": {},
   "outputs": [],
   "source": [
    "# Set hyperparameters\n",
    "learning_rate = 0.1\n",
    "num_epochs = 100\n",
    "m = len(X_b)"
   ]
  },
  {
   "cell_type": "code",
   "execution_count": 11,
   "id": "c7307922-0591-48c5-ad49-00e256534aba",
   "metadata": {},
   "outputs": [],
   "source": [
    "# Initialize model parameters\n",
    "theta = np.random.randn(2, 1)"
   ]
  },
  {
   "cell_type": "code",
   "execution_count": 12,
   "id": "80416b28-9b48-4678-9ca8-6dd534448677",
   "metadata": {},
   "outputs": [],
   "source": [
    "# Stochastic Gradient Descent\n",
    "for epoch in range(num_epochs):\n",
    "    # Shuffle the dataset for each epoch\n",
    "    shuffled_indices = np.random.permutation(m)\n",
    "    X_b_shuffled = X_b[shuffled_indices]\n",
    "    y_shuffled = y[shuffled_indices]\n",
    "    \n",
    "    for i in range(m):\n",
    "        xi = X_b_shuffled[i:i+1]\n",
    "        yi = y_shuffled[i:i+1]\n",
    "        \n",
    "        # Compute gradients for a single instance\n",
    "        gradients = 2 * xi.T.dot(xi.dot(theta) - yi)\n",
    "        \n",
    "        # Update parameters\n",
    "        theta = theta - learning_rate * gradients"
   ]
  },
  {
   "cell_type": "code",
   "execution_count": 13,
   "id": "4472a4b1-dd6f-4a4c-9235-741ee258e649",
   "metadata": {},
   "outputs": [
    {
     "name": "stdout",
     "output_type": "stream",
     "text": [
      "Intercept: [4.52274662]\n",
      "Slope: [2.30464594]\n"
     ]
    }
   ],
   "source": [
    "# Print the final model parameters\n",
    "print(\"Intercept:\", theta[0])\n",
    "print(\"Slope:\", theta[1])"
   ]
  },
  {
   "cell_type": "markdown",
   "id": "1736bd3e-e562-46c0-9ac7-5536b2a19c33",
   "metadata": {},
   "source": [
    "Stochastic Gradient Descent uses a single instance at a time to compute gradients and update parameters, making it faster than Batch Gradient Descent but potentially less stable."
   ]
  },
  {
   "cell_type": "markdown",
   "id": "d586d1b4-0077-4f9a-936e-b79cfd35b98f",
   "metadata": {},
   "source": [
    "#### Minibatch GD"
   ]
  },
  {
   "cell_type": "code",
   "execution_count": 14,
   "id": "a99b6195-5703-42cc-bdeb-d795942badc3",
   "metadata": {},
   "outputs": [],
   "source": [
    "# Generate dummy data\n",
    "np.random.seed(42)\n",
    "X = 2 * np.random.rand(100, 1)\n",
    "y = 4 + 3 * X + np.random.randn(100, 1)"
   ]
  },
  {
   "cell_type": "code",
   "execution_count": 15,
   "id": "2e1ce737-9ea9-4719-86ba-37e623bea0af",
   "metadata": {},
   "outputs": [],
   "source": [
    "# Add bias term to feature matrix X\n",
    "X_b = np.c_[np.ones((100, 1)), X]"
   ]
  },
  {
   "cell_type": "code",
   "execution_count": 16,
   "id": "6503e1b4-e28e-4585-b568-d4bed07ada27",
   "metadata": {},
   "outputs": [],
   "source": [
    "# Set hyperparameters\n",
    "learning_rate = 0.1\n",
    "num_epochs    = 100\n",
    "batch_size    = 10\n",
    "\n",
    "m = len(X_b)"
   ]
  },
  {
   "cell_type": "code",
   "execution_count": 17,
   "id": "19aeb53c-be78-4f70-b6c7-f2dfd65fc2fb",
   "metadata": {},
   "outputs": [],
   "source": [
    "# Initialize model parameters\n",
    "theta = np.random.randn(2, 1)"
   ]
  },
  {
   "cell_type": "code",
   "execution_count": 18,
   "id": "3fae2175-a70f-420f-9938-9b19e67255a9",
   "metadata": {},
   "outputs": [],
   "source": [
    "# Mini-Batch Gradient Descent\n",
    "for epoch in range(num_epochs):\n",
    "    # Shuffle the dataset for each epoch\n",
    "    shuffled_indices = np.random.permutation(m)\n",
    "    X_b_shuffled = X_b[shuffled_indices]\n",
    "    y_shuffled = y[shuffled_indices]\n",
    "    \n",
    "    for i in range(0, m, batch_size):\n",
    "        X_batch = X_b_shuffled[i:i+batch_size]\n",
    "        y_batch = y_shuffled[i:i+batch_size]\n",
    "        \n",
    "        # Compute gradients for a mini-batch\n",
    "        gradients = 2/batch_size * X_batch.T.dot(X_batch.dot(theta) - y_batch)\n",
    "        \n",
    "        # Update parameters\n",
    "        theta = theta - learning_rate * gradients"
   ]
  },
  {
   "cell_type": "code",
   "execution_count": 19,
   "id": "6d11468c-7411-4ca5-b674-2b619ded2a16",
   "metadata": {},
   "outputs": [
    {
     "name": "stdout",
     "output_type": "stream",
     "text": [
      "Intercept: [4.19593351]\n",
      "Slope: [2.75141764]\n"
     ]
    }
   ],
   "source": [
    "# Print the final model parameters\n",
    "print(\"Intercept:\", theta[0])\n",
    "print(\"Slope:\", theta[1])"
   ]
  },
  {
   "cell_type": "code",
   "execution_count": null,
   "id": "29dd3bee-75ef-4afd-8826-37272464e218",
   "metadata": {},
   "outputs": [],
   "source": []
  },
  {
   "cell_type": "code",
   "execution_count": null,
   "id": "090ba24f-ba53-46ce-9b71-be1ef2de8d6c",
   "metadata": {},
   "outputs": [],
   "source": []
  }
 ],
 "metadata": {
  "kernelspec": {
   "display_name": "Python 3 (ipykernel)",
   "language": "python",
   "name": "python3"
  },
  "language_info": {
   "codemirror_mode": {
    "name": "ipython",
    "version": 3
   },
   "file_extension": ".py",
   "mimetype": "text/x-python",
   "name": "python",
   "nbconvert_exporter": "python",
   "pygments_lexer": "ipython3",
   "version": "3.10.9"
  }
 },
 "nbformat": 4,
 "nbformat_minor": 5
}
